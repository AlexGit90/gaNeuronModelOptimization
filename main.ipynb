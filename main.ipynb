{
 "cells": [
  {
   "cell_type": "code",
   "execution_count": 1,
   "metadata": {},
   "outputs": [],
   "source": [
    "import numpy as np\n",
    "import matplotlib.pyplot as plt\n",
    "import seaborn as sns\n",
    "sns.set_style(\"white\")"
   ]
  },
  {
   "cell_type": "markdown",
   "metadata": {},
   "source": [
    "### Leaky-integrate-and-fire Neuron Model"
   ]
  },
  {
   "cell_type": "code",
   "execution_count": 2,
   "metadata": {},
   "outputs": [],
   "source": [
    "def lif(p):\n",
    "\n",
    "    tau = p[0]\n",
    "    R = p[1]\n",
    "    I = 1\n",
    "    dt = 0.01\n",
    "    deltaT = 4\n",
    "    VT = -50\n",
    "    E = -70\n",
    "    VspikeThreshold = -20\n",
    "    Vreset = -70\n",
    "\n",
    "    V = np.zeros((10000)); V[0] = -70\n",
    "    W = np.zeros((10000)); W[0] = 100\n",
    "\n",
    "    spikeTimes = []\n",
    "\n",
    "    for nn in range(10000-1):\n",
    "        dV = (E - V[nn] + deltaT*np.exp((V[nn]-VT)/deltaT) + R*I)/tau * dt\n",
    "        V[nn+1] = (V[nn] + dV)\n",
    "        if V[nn+1] > VspikeThreshold:\n",
    "            V[nn+1] = Vreset\n",
    "            spikeTimes.append(nn*dt)\n",
    "    return V, spikeTimes"
   ]
  },
  {
   "cell_type": "code",
   "execution_count": 3,
   "metadata": {},
   "outputs": [
    {
     "data": {
      "image/png": "[encoded data removed]",
      "text/plain": [
       "<Figure size 432x288 with 1 Axes>"
      ]
     },
     "metadata": {},
     "output_type": "display_data"
    }
   ],
   "source": [
    "# We generate a baseline neuron\n",
    "tau = 10\n",
    "R = 25\n",
    "V_base, spikeTimes_base = lif([tau, R])\n",
    "\n",
    "t = np.arange(0, 100, 0.01)\n",
    "plt.plot(t, V_base)\n",
    "plt.plot(spikeTimes_base, np.repeat(-25, len(spikeTimes_base)), '.', markersize=20)\n",
    "plt.xlabel(\"t [ms]\")\n",
    "plt.ylabel(\"V [mV]\")\n",
    "plt.savefig(\"neuron_model_baseline.png\")"
   ]
  },
  {
   "cell_type": "markdown",
   "metadata": {},
   "source": [
    "### Evaluation function\n",
    "We need an evaluation function for our genetic algorithm. Here we compare the absolute difference between our baseline neuron and the neuron modelled with the current parameters during our optimization process. \"individual\" is a list with the two parameters \"tau\" and \"R\".  \n",
    "Keep in mind that we want to minimize the error between the two time series. The error is defined as the absolut difference between the two time series. This simple measure is applicable for all time series and could also be used for other use cases beside optimizing neuron models.  \n",
    "I will show another approach featuring spike trains below."
   ]
  },
  {
   "cell_type": "code",
   "execution_count": 4,
   "metadata": {},
   "outputs": [],
   "source": [
    "def evalFunc(individual, V=None):\n",
    "    V_tmp, _ = lif(individual)\n",
    "    error = float(np.sum(np.abs(V_tmp - V) / 10000))\n",
    "    return (error,)"
   ]
  },
  {
   "cell_type": "markdown",
   "metadata": {},
   "source": [
    "### Genetic Algorithm setup\n",
    "We setup a really basic optimization routine with the gaSimple() function of DEAP.\n",
    "As mentioned above we want to minimize the error between our baseline model and the model with the parameters to optimize. For this reason we have to minimize the fitness, which requires negative weights:\n",
    "\n",
    "'''\n",
    "creator.create(\"FitnessMin\", base.Fitness, weights=(-1.0,))\n",
    "'''\n",
    "\n",
    "Furthermore, we initilize our individuals with integers between [0, 100]. This can of course also be done with floats."
   ]
  },
  {
   "cell_type": "code",
   "execution_count": 5,
   "metadata": {},
   "outputs": [],
   "source": [
    "import array\n",
    "import random\n",
    "\n",
    "from deap import algorithms\n",
    "from deap import base\n",
    "from deap import creator\n",
    "from deap import tools\n",
    "\n",
    "creator.create(\"FitnessMin\", base.Fitness, weights=(-1.0,))\n",
    "creator.create(\"Individual\", array.array, typecode='i', fitness=creator.FitnessMin)\n",
    "\n",
    "toolbox = base.Toolbox()\n",
    "\n",
    "# Attribute generator\n",
    "toolbox.register(\"attr_int\", random.randint, 0, 50)\n",
    "\n",
    "# Structure initializers\n",
    "toolbox.register(\"individual\", tools.initRepeat, creator.Individual, toolbox.attr_int, 2)\n",
    "toolbox.register(\"population\", tools.initRepeat, list, toolbox.individual)\n",
    "\n",
    "toolbox.register(\"evaluate\", evalFunc, V=V_base)\n",
    "toolbox.register(\"mate\", tools.cxTwoPoint)\n",
    "toolbox.register(\"mutate\", tools.mutFlipBit, indpb=0.05)\n",
    "toolbox.register(\"select\", tools.selTournament, tournsize=3)\n",
    "\n",
    "random.seed(64)\n",
    "\n",
    "pop = toolbox.population(n=300)\n",
    "hof = tools.HallOfFame(10)\n",
    "stats = tools.Statistics(lambda ind: ind.fitness.values)\n",
    "stats.register(\"avg\", np.mean)\n",
    "stats.register(\"std\", np.std)\n",
    "stats.register(\"min\", np.min)\n",
    "stats.register(\"max\", np.max)"
   ]
  },
  {
   "cell_type": "markdown",
   "metadata": {},
   "source": [
    "#### Run the optimization"
   ]
  },
  {
   "cell_type": "code",
   "execution_count": 6,
   "metadata": {},
   "outputs": [
    {
     "name": "stderr",
     "output_type": "stream",
     "text": [
      "C:\\Users\\Alex\\AppData\\Roaming\\Python\\Python37\\site-packages\\ipykernel_launcher.py:19: RuntimeWarning: divide by zero encountered in double_scalars\n"
     ]
    },
    {
     "name": "stdout",
     "output_type": "stream",
     "text": [
      "gen\tnevals\tavg    \tstd    \tmin    \tmax   \n",
      "0  \t300   \t9.83727\t2.38124\t1.86038\t15.864\n",
      "1  \t169   \t8.40574\t1.88541\t0      \t15.864\n",
      "2  \t190   \t7.555  \t1.93199\t0      \t15.864\n",
      "3  \t179   \t6.86526\t2.52256\t0      \t15.864\n",
      "4  \t185   \t6.25684\t2.84475\t0      \t15.864\n",
      "5  \t179   \t5.37311\t3.14698\t0      \t15.864\n",
      "6  \t175   \t5.15109\t3.50057\t0      \t15.864\n",
      "7  \t176   \t5.08701\t3.42536\t0      \t15.864\n",
      "8  \t192   \t4.86223\t3.79485\t0      \t15.864\n",
      "9  \t163   \t3.92105\t3.94828\t0      \t15.864\n",
      "10 \t180   \t2.78031\t3.80371\t0      \t15.864\n"
     ]
    }
   ],
   "source": [
    "pop, log = algorithms.eaSimple(pop, toolbox, cxpb=0.5, mutpb=0.2, ngen=10, \n",
    "                                stats=stats, halloffame=hof, verbose=True)"
   ]
  },
  {
   "cell_type": "markdown",
   "metadata": {},
   "source": [
    "#### Examine the results"
   ]
  },
  {
   "cell_type": "code",
   "execution_count": 7,
   "metadata": {},
   "outputs": [
    {
     "name": "stdout",
     "output_type": "stream",
     "text": [
      "[Individual('i', [10, 25]), Individual('i', [26, 48]), Individual('i', [21, 41]), Individual('i', [5, 19]), Individual('i', [6, 20]), Individual('i', [21, 40]), Individual('i', [9, 24]), Individual('i', [8, 22]), Individual('i', [10, 19]), Individual('i', [8, 23])]\n",
      "array('i', [10, 25])\n"
     ]
    },
    {
     "data": {
      "image/png": "[encoded data removed]",
      "text/plain": [
       "<Figure size 432x288 with 1 Axes>"
      ]
     },
     "metadata": {},
     "output_type": "display_data"
    }
   ],
   "source": [
    "print(hof)\n",
    "\n",
    "V_opt, _ = lif(hof[0][:])\n",
    "print(hof[0][:])\n",
    "t = np.arange(0, 100, 0.01)\n",
    "plt.plot(t, V_base)\n",
    "plt.plot(t, V_opt)\n",
    "plt.xlabel(\"t [ms]\")\n",
    "plt.ylabel(\"V [mV]\")\n",
    "plt.savefig(\"neuron_model_result.png\")"
   ]
  },
  {
   "cell_type": "markdown",
   "metadata": {},
   "source": [
    "#### Optimization with Spike Trains\n",
    "\n",
    "First we create a new evaluation function. We will use the \"pyspike\" package to calculate the ISI-distance measure. The ISI-distance is the integral over the isi distance profile."
   ]
  },
  {
   "cell_type": "code",
   "execution_count": 13,
   "metadata": {},
   "outputs": [],
   "source": [
    "from pyspike import SpikeTrain, isi_distance\n",
    "\n",
    "def evalFuncSpikeTrains(individual, V=None, spikeTimes_base=None):\n",
    "    V_tmp, spikeTimes_opt = lif(individual)\n",
    "    spikeTrain_base = SpikeTrain(spikeTimes_base, (0.0, 100))\n",
    "    spikeTrain_opt = SpikeTrain(spikeTimes_opt, (0.0, 100))\n",
    "    error = isi_distance(spikeTrain_base, spikeTrain_opt)\n",
    "    return (error,)"
   ]
  },
  {
   "cell_type": "code",
   "execution_count": 14,
   "metadata": {},
   "outputs": [],
   "source": [
    "creator.create(\"FitnessMin\", base.Fitness, weights=(-1.0,))\n",
    "creator.create(\"Individual\", array.array, typecode='i', fitness=creator.FitnessMin)\n",
    "\n",
    "toolbox = base.Toolbox()\n",
    "\n",
    "# Attribute generator\n",
    "toolbox.register(\"attr_int\", random.randint, 0, 50)\n",
    "\n",
    "# Structure initializers\n",
    "toolbox.register(\"individual\", tools.initRepeat, creator.Individual, toolbox.attr_int, 2)\n",
    "toolbox.register(\"population\", tools.initRepeat, list, toolbox.individual)\n",
    "\n",
    "toolbox.register(\"evaluate\", evalFuncSpikeTrains, V=V_base, spikeTimes_base=spikeTimes_base)\n",
    "toolbox.register(\"mate\", tools.cxTwoPoint)\n",
    "toolbox.register(\"mutate\", tools.mutFlipBit, indpb=0.05)\n",
    "toolbox.register(\"select\", tools.selTournament, tournsize=3)\n",
    "\n",
    "random.seed(64)\n",
    "\n",
    "pop = toolbox.population(n=300)\n",
    "hof = tools.HallOfFame(10)\n",
    "stats = tools.Statistics(lambda ind: ind.fitness.values)\n",
    "stats.register(\"avg\", np.mean)\n",
    "stats.register(\"std\", np.std)\n",
    "stats.register(\"min\", np.min)\n",
    "stats.register(\"max\", np.max)"
   ]
  },
  {
   "cell_type": "code",
   "execution_count": 15,
   "metadata": {},
   "outputs": [
    {
     "name": "stderr",
     "output_type": "stream",
     "text": [
      "C:\\Users\\Alex\\AppData\\Roaming\\Python\\Python37\\site-packages\\ipykernel_launcher.py:19: RuntimeWarning: divide by zero encountered in double_scalars\n"
     ]
    },
    {
     "name": "stdout",
     "output_type": "stream",
     "text": [
      "gen\tnevals\tavg     \tstd    \tmin       \tmax     \n",
      "0  \t300   \t0.589789\t0.24171\t0.00632054\t0.999546\n",
      "1  \t169   \t0.423639\t0.236751\t0         \t0.999546\n",
      "2  \t190   \t0.301678\t0.218075\t0         \t0.999546\n",
      "3  \t179   \t0.252442\t0.233948\t0         \t0.999546\n",
      "4  \t185   \t0.207415\t0.232576\t0         \t0.999546\n",
      "5  \t179   \t0.203355\t0.254384\t0         \t0.999546\n",
      "6  \t175   \t0.187591\t0.258528\t0         \t0.999546\n",
      "7  \t176   \t0.161834\t0.235718\t0         \t0.999546\n",
      "8  \t192   \t0.167157\t0.246953\t0         \t0.999546\n",
      "9  \t163   \t0.162855\t0.243213\t0         \t0.999546\n",
      "10 \t180   \t0.174503\t0.256763\t0         \t0.999546\n"
     ]
    }
   ],
   "source": [
    "pop, log = algorithms.eaSimple(pop, toolbox, cxpb=0.5, mutpb=0.2, ngen=10, \n",
    "                                stats=stats, halloffame=hof, verbose=True)"
   ]
  },
  {
   "cell_type": "markdown",
   "metadata": {},
   "source": [
    "We are able to find the correct parameters."
   ]
  },
  {
   "cell_type": "code",
   "execution_count": 16,
   "metadata": {},
   "outputs": [
    {
     "name": "stdout",
     "output_type": "stream",
     "text": [
      "[Individual('i', [10, 25]), Individual('i', [26, 48]), Individual('i', [23, 44]), Individual('i', [21, 41]), Individual('i', [23, 43]), Individual('i', [21, 40]), Individual('i', [9, 24]), Individual('i', [22, 43]), Individual('i', [26, 47]), Individual('i', [22, 41])]\n",
      "array('i', [10, 25])\n"
     ]
    },
    {
     "data": {
      "image/png": "[encoded data removed]",
      "text/plain": [
       "<Figure size 432x288 with 1 Axes>"
      ]
     },
     "metadata": {},
     "output_type": "display_data"
    }
   ],
   "source": [
    "print(hof)\n",
    "\n",
    "V_opt, _ = lif(hof[0][:])\n",
    "print(hof[0][:])\n",
    "t = np.arange(0, 100, 0.01)\n",
    "plt.plot(t, V_base)\n",
    "plt.plot(t, V_opt)\n",
    "plt.xlabel(\"t [ms]\")\n",
    "plt.ylabel(\"V [mV]\")\n",
    "plt.savefig(\"neuron_model_result.png\")"
   ]
  }
 ],
 "metadata": {
  "interpreter": {
   "hash": "0600588c3b5f4418cbe7b5ebc6825b479f3bc010269d8b60d75058cdd010adfe"
  },
  "kernelspec": {
   "display_name": "Python 3.7.4 64-bit",
   "language": "python",
   "name": "python3"
  },
  "language_info": {
   "codemirror_mode": {
    "name": "ipython",
    "version": 3
   },
   "file_extension": ".py",
   "mimetype": "text/x-python",
   "name": "python",
   "nbconvert_exporter": "python",
   "pygments_lexer": "ipython3",
   "version": "3.7.6"
  },
  "orig_nbformat": 4
 },
 "nbformat": 4,
 "nbformat_minor": 2
}

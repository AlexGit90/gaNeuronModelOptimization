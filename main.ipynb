{
 "cells": [
  {
   "cell_type": "code",
   "execution_count": 56,
   "metadata": {},
   "outputs": [],
   "source": [
    "import numpy as np\n",
    "import matplotlib.pyplot as plt"
   ]
  },
  {
   "cell_type": "code",
   "execution_count": 127,
   "metadata": {},
   "outputs": [],
   "source": [
    "def lif(p):\n",
    "\n",
    "    tau = p[0]\n",
    "    R = p[1]\n",
    "    I = 1\n",
    "    dt = 0.01\n",
    "    deltaT = 4\n",
    "    VT = -50\n",
    "    E = -70\n",
    "    VspikeThreshold = -20\n",
    "    Vreset = -70\n",
    "\n",
    "    V = np.zeros((10000)); V[0] = -70\n",
    "    W = np.zeros((10000)); W[0] = 100\n",
    "\n",
    "    for nn in range(10000-1):\n",
    "        dV = (E - V[nn] + deltaT*np.exp((V[nn]-VT)/deltaT) + R*I)/tau * dt\n",
    "        V[nn+1] = (V[nn] + dV)\n",
    "        if V[nn+1] > VspikeThreshold:\n",
    "            V[nn+1] = Vreset\n",
    "    return V"
   ]
  },
  {
   "cell_type": "code",
   "execution_count": 107,
   "metadata": {},
   "outputs": [],
   "source": [
    "V_base = lif([10, 25])"
   ]
  },
  {
   "cell_type": "code",
   "execution_count": 133,
   "metadata": {},
   "outputs": [
    {
     "name": "stderr",
     "output_type": "stream",
     "text": [
      "C:\\Users\\tren_ax\\AppData\\Roaming\\Python\\Python37\\site-packages\\deap\\creator.py:141: RuntimeWarning: A class named 'FitnessMin' has already been created and it will be overwritten. Consider deleting previous creation of that class or rename it.\n",
      "  RuntimeWarning)\n",
      "C:\\Users\\tren_ax\\AppData\\Roaming\\Python\\Python37\\site-packages\\deap\\creator.py:141: RuntimeWarning: A class named 'Individual' has already been created and it will be overwritten. Consider deleting previous creation of that class or rename it.\n",
      "  RuntimeWarning)\n",
      "C:\\Users\\tren_ax\\AppData\\Roaming\\Python\\Python37\\site-packages\\ipykernel_launcher.py:17: RuntimeWarning: divide by zero encountered in double_scalars\n"
     ]
    },
    {
     "name": "stdout",
     "output_type": "stream",
     "text": [
      "gen\tnevals\tavg    \tstd    \tmin        \tmax   \n",
      "0  \t300   \t3.05851\t4.29689\t0.000244693\t15.864\n",
      "1  \t169   \t1.19239\t2.701  \t0.000244693\t15.864\n",
      "2  \t181   \t0.767063\t1.80968\t0.000244693\t15.864\n",
      "3  \t180   \t0.798632\t2.26711\t0.000244693\t15.864\n",
      "4  \t177   \t0.842955\t2.28181\t0.000244693\t15.864\n",
      "5  \t176   \t0.782823\t2.21638\t0.000244693\t15.864\n",
      "6  \t170   \t0.88978 \t2.67938\t0.000244693\t15.864\n",
      "7  \t171   \t0.542199\t1.59565\t0.000244693\t15.864\n",
      "8  \t184   \t0.667998\t2.27647\t0.000244693\t15.864\n",
      "9  \t167   \t0.612941\t2.24765\t0.000244693\t15.864\n",
      "10 \t180   \t0.467168\t2.04897\t0.000244693\t15.864\n",
      "11 \t190   \t0.463468\t2.23354\t0.000244693\t15.864\n",
      "12 \t183   \t0.323725\t2.04007\t0.000244693\t15.864\n",
      "13 \t165   \t0.423179\t2.55516\t0.000244693\t15.864\n",
      "14 \t192   \t0.317386\t2.21999\t0.000244693\t15.864\n",
      "15 \t180   \t0.264541\t2.0301 \t0.000244693\t15.864\n",
      "16 \t192   \t0.264541\t2.0301 \t0.000244693\t15.864\n",
      "17 \t180   \t0.581783\t2.98079\t0.000244693\t15.864\n",
      "18 \t165   \t0.158849\t1.57809\t0.000244693\t15.864\n",
      "19 \t174   \t0.10597 \t1.29054\t0.000244693\t15.864\n",
      "20 \t172   \t0.475957\t2.70502\t0.000244693\t15.864\n",
      "21 \t186   \t0.10597 \t1.29054\t0.000244693\t15.864\n",
      "22 \t173   \t0.475991\t2.70521\t0.000244693\t15.864\n",
      "23 \t181   \t0.211728\t1.81925\t0.000244693\t15.864\n",
      "24 \t188   \t0.687474\t3.22902\t0.000244693\t15.864\n",
      "25 \t178   \t0.211695\t1.81896\t0.000244693\t15.864\n"
     ]
    }
   ],
   "source": [
    "import array\n",
    "import random\n",
    "\n",
    "from deap import algorithms\n",
    "from deap import base\n",
    "from deap import creator\n",
    "from deap import tools\n",
    "\n",
    "creator.create(\"FitnessMin\", base.Fitness, weights=(-1.0,))\n",
    "creator.create(\"Individual\", array.array, typecode='b', fitness=creator.FitnessMin)\n",
    "\n",
    "toolbox = base.Toolbox()\n",
    "\n",
    "# Attribute generator\n",
    "toolbox.register(\"attr_int\", random.randint, 0, 100)\n",
    "\n",
    "# Structure initializers\n",
    "toolbox.register(\"individual\", tools.initRepeat, creator.Individual, toolbox.attr_int, 2)\n",
    "toolbox.register(\"population\", tools.initRepeat, list, toolbox.individual)\n",
    "\n",
    "def evalFunc(individual, V=None):\n",
    "    V_tmp = lif(individual)\n",
    "    error = float(np.abs(np.sum(V_tmp - V) / 10000))\n",
    "    return (error,)\n",
    "\n",
    "toolbox.register(\"evaluate\", evalFunc, V=V_base)\n",
    "toolbox.register(\"mate\", tools.cxTwoPoint)\n",
    "toolbox.register(\"mutate\", tools.mutFlipBit, indpb=0.05)\n",
    "toolbox.register(\"select\", tools.selTournament, tournsize=3)\n",
    "\n",
    "\n",
    "random.seed(64)\n",
    "\n",
    "pop = toolbox.population(n=300)\n",
    "hof = tools.HallOfFame(10)\n",
    "stats = tools.Statistics(lambda ind: ind.fitness.values)\n",
    "stats.register(\"avg\", np.mean)\n",
    "stats.register(\"std\", np.std)\n",
    "stats.register(\"min\", np.min)\n",
    "stats.register(\"max\", np.max)\n",
    "\n",
    "pop, log = algorithms.eaSimple(pop, toolbox, cxpb=0.5, mutpb=0.2, ngen=25, \n",
    "                                stats=stats, halloffame=hof, verbose=True)"
   ]
  },
  {
   "cell_type": "code",
   "execution_count": null,
   "metadata": {},
   "outputs": [],
   "source": []
  },
  {
   "cell_type": "code",
   "execution_count": 140,
   "metadata": {},
   "outputs": [
    {
     "name": "stdout",
     "output_type": "stream",
     "text": [
      "array('b', [98, 89])\n"
     ]
    },
    {
     "data": {
      "text/plain": [
       "[<matplotlib.lines.Line2D at 0x2d0c42aeb88>]"
      ]
     },
     "execution_count": 140,
     "metadata": {},
     "output_type": "execute_result"
    },
    {
     "data": {
      "image/png": "[encoded data removed]",
      "text/plain": [
       "<Figure size 432x288 with 1 Axes>"
      ]
     },
     "metadata": {
      "needs_background": "light"
     },
     "output_type": "display_data"
    }
   ],
   "source": [
    "#print(pop)\n",
    "\n",
    "V_opt = lif(hof[0][:])\n",
    "print(hof[0][:])\n",
    "plt.plot(V_base)\n",
    "plt.plot(V_opt)"
   ]
  },
  {
   "cell_type": "code",
   "execution_count": null,
   "metadata": {},
   "outputs": [],
   "source": []
  }
 ],
 "metadata": {
  "interpreter": {
   "hash": "0600588c3b5f4418cbe7b5ebc6825b479f3bc010269d8b60d75058cdd010adfe"
  },
  "kernelspec": {
   "display_name": "Python 3.7.4 64-bit",
   "language": "python",
   "name": "python3"
  },
  "language_info": {
   "codemirror_mode": {
    "name": "ipython",
    "version": 3
   },
   "file_extension": ".py",
   "mimetype": "text/x-python",
   "name": "python",
   "nbconvert_exporter": "python",
   "pygments_lexer": "ipython3",
   "version": "3.7.4"
  },
  "orig_nbformat": 4
 },
 "nbformat": 4,
 "nbformat_minor": 2
}
